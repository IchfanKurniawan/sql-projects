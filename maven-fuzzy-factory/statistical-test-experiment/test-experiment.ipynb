{
 "cells": [
  {
   "cell_type": "code",
   "execution_count": 1,
   "metadata": {},
   "outputs": [],
   "source": [
    "import pandas as pd\n",
    "from scipy.stats import ttest_ind"
   ]
  },
  {
   "attachments": {},
   "cell_type": "markdown",
   "metadata": {},
   "source": [
    "### /home vs /lander-1 page"
   ]
  },
  {
   "cell_type": "code",
   "execution_count": 13,
   "metadata": {},
   "outputs": [
    {
     "name": "stdout",
     "output_type": "stream",
     "text": [
      "t-test independent 2 samples\n",
      "Session variable test: p value 2.83658430563418e-16\n",
      "Order variable test: p value 1.7475083201561484e-13\n",
      "CVR variable test: p value 0.0011023553675696834\n"
     ]
    }
   ],
   "source": [
    "home_lander1 = pd.read_csv('dataset\\\\home_lander1.csv')\n",
    "# home_lander5.columns\n",
    "\n",
    "session = {}\n",
    "order = {}\n",
    "cvr = {}\n",
    "session['stat'], session['p'] = ttest_ind(home_lander1.home_sess, home_lander1.lander_1_sess)\n",
    "order['stat'], order['p'] = ttest_ind(home_lander1.home_order, home_lander1.lander_1_order)\n",
    "cvr['stat'], cvr['p'] = ttest_ind(home_lander1.cvr_home, home_lander1.cvr_lander_1)\n",
    "\n",
    "print('t-test independent 2 samples')\n",
    "print(f\"Session variable test: p value {session['p']}\")\n",
    "print(f\"Order variable test: p value {order['p']}\")\n",
    "print(f\"CVR variable test: p value {cvr['p']}\")"
   ]
  },
  {
   "attachments": {},
   "cell_type": "markdown",
   "metadata": {},
   "source": [
    "### /home vs /lander-2 page"
   ]
  },
  {
   "cell_type": "code",
   "execution_count": 14,
   "metadata": {},
   "outputs": [
    {
     "name": "stdout",
     "output_type": "stream",
     "text": [
      "t-test independent 2 samples\n",
      "Session variable test: p value 3.4101582699805234e-20\n",
      "Order variable test: p value 2.1849744137960955e-21\n",
      "CVR variable test: p value 0.3639912081664243\n"
     ]
    }
   ],
   "source": [
    "home_lander2 = pd.read_csv('dataset\\\\home_lander2.csv')\n",
    "\n",
    "session = {}\n",
    "order = {}\n",
    "cvr = {}\n",
    "session['stat'], session['p'] = ttest_ind(home_lander2.home_sess, home_lander2.lander_2_sess)\n",
    "order['stat'], order['p'] = ttest_ind(home_lander2.home_order, home_lander2.lander_2_order)\n",
    "cvr['stat'], cvr['p'] = ttest_ind(home_lander2.cvr_home, home_lander2.cvr_lander_2)\n",
    "\n",
    "print('t-test independent 2 samples')\n",
    "print(f\"Session variable test: p value {session['p']}\")\n",
    "print(f\"Order variable test: p value {order['p']}\")\n",
    "print(f\"CVR variable test: p value {cvr['p']}\")"
   ]
  },
  {
   "attachments": {},
   "cell_type": "markdown",
   "metadata": {},
   "source": [
    "### /home vs /lander-3 page"
   ]
  },
  {
   "cell_type": "code",
   "execution_count": 16,
   "metadata": {},
   "outputs": [
    {
     "name": "stdout",
     "output_type": "stream",
     "text": [
      "t-test independent 2 samples\n",
      "Session variable test: p value 2.882187780992474e-16\n",
      "Order variable test: p value 1.797320126437419e-108\n",
      "CVR variable test: p value 1.063464738646624e-183\n"
     ]
    }
   ],
   "source": [
    "home_lander3 = pd.read_csv('dataset\\\\home_lander3.csv')\n",
    "\n",
    "session = {}\n",
    "order = {}\n",
    "cvr = {}\n",
    "session['stat'], session['p'] = ttest_ind(home_lander3.home_sess, home_lander3.lander_3_sess)\n",
    "order['stat'], order['p'] = ttest_ind(home_lander3.home_order, home_lander3.lander_3_order)\n",
    "cvr['stat'], cvr['p'] = ttest_ind(home_lander3.cvr_home, home_lander3.cvr_lander_3)\n",
    "\n",
    "print('t-test independent 2 samples')\n",
    "print(f\"Session variable test: p value {session['p']}\")\n",
    "print(f\"Order variable test: p value {order['p']}\")\n",
    "print(f\"CVR variable test: p value {cvr['p']}\")"
   ]
  },
  {
   "attachments": {},
   "cell_type": "markdown",
   "metadata": {},
   "source": [
    "### /home vs /lander-4 page"
   ]
  },
  {
   "cell_type": "code",
   "execution_count": 17,
   "metadata": {},
   "outputs": [
    {
     "name": "stdout",
     "output_type": "stream",
     "text": [
      "t-test independent 2 samples\n",
      "Session variable test: p value 2.517549134197373e-05\n",
      "Order variable test: p value 0.00034235717571129887\n",
      "CVR variable test: p value 0.8814816931874783\n"
     ]
    }
   ],
   "source": [
    "home_lander4 = pd.read_csv('dataset\\\\home_lander4.csv')\n",
    "# home_lander5.columns\n",
    "\n",
    "session = {}\n",
    "order = {}\n",
    "cvr = {}\n",
    "session['stat'], session['p'] = ttest_ind(home_lander4.home_sess, home_lander4.lander_4_sess)\n",
    "order['stat'], order['p'] = ttest_ind(home_lander4.home_order, home_lander4.lander_4_order)\n",
    "cvr['stat'], cvr['p'] = ttest_ind(home_lander4.cvr_home, home_lander4.cvr_lander_4)\n",
    "\n",
    "print('t-test independent 2 samples')\n",
    "print(f\"Session variable test: p value {session['p']}\")\n",
    "print(f\"Order variable test: p value {order['p']}\")\n",
    "print(f\"CVR variable test: p value {cvr['p']}\")"
   ]
  },
  {
   "attachments": {},
   "cell_type": "markdown",
   "metadata": {},
   "source": [
    "### /home vs /lander-5 page"
   ]
  },
  {
   "cell_type": "code",
   "execution_count": 18,
   "metadata": {},
   "outputs": [
    {
     "name": "stdout",
     "output_type": "stream",
     "text": [
      "t-test independent 2 samples\n",
      "Session variable test: p value 0.008014107385978882\n",
      "Order variable test: p value 5.24687077621794e-08\n",
      "CVR variable test: p value 7.612618881832843e-28\n"
     ]
    }
   ],
   "source": [
    "home_lander5 = pd.read_csv('dataset\\\\home_lander5.csv')\n",
    "# home_lander5.columns\n",
    "\n",
    "session = {}\n",
    "order = {}\n",
    "cvr = {}\n",
    "session['stat'], session['p'] = ttest_ind(home_lander5.home_sess, home_lander5.lander_5_sess)\n",
    "order['stat'], order['p'] = ttest_ind(home_lander5.home_order, home_lander5.lander_5_order)\n",
    "cvr['stat'], cvr['p'] = ttest_ind(home_lander5.cvr_home, home_lander5.cvr_lander_5)\n",
    "\n",
    "print('t-test independent 2 samples')\n",
    "print(f\"Session variable test: p value {session['p']}\")\n",
    "print(f\"Order variable test: p value {order['p']}\")\n",
    "print(f\"CVR variable test: p value {cvr['p']}\")"
   ]
  },
  {
   "attachments": {},
   "cell_type": "markdown",
   "metadata": {},
   "source": [
    "### /billing vs /billing-2 page"
   ]
  },
  {
   "cell_type": "code",
   "execution_count": 8,
   "metadata": {},
   "outputs": [
    {
     "name": "stdout",
     "output_type": "stream",
     "text": [
      "t-test independent 2 samples\n",
      "Session variable test: p value 0.9808233875030443\n",
      "Order variable test: p value 0.03706142665159242\n",
      "Revenue variable test: p value 0.03706142665159246\n",
      "CVR variable test: p value 3.0717086317220985e-13\n"
     ]
    }
   ],
   "source": [
    "billings = pd.read_csv('dataset\\\\billing_billing2.csv')\n",
    "billings.columns\n",
    "\n",
    "billings.billing_revenue = billings.billing_revenue.fillna(0)\n",
    "\n",
    "session = {}\n",
    "order = {}\n",
    "revenue = {}\n",
    "cvr = {}\n",
    "session['stat'], session['p'] = ttest_ind(billings.billing_sess, billings['billing-2_sess'])\n",
    "order['stat'], order['p'] = ttest_ind(billings.billing_order, billings['billing-2_order'])\n",
    "revenue['stat'], revenue['p'] = ttest_ind(billings.billing_revenue, billings['billing-2_revenue'])\n",
    "cvr['stat'], cvr['p'] = ttest_ind(billings.billing_cvr, billings['billing-2_cvr'])\n",
    "\n",
    "print('t-test independent 2 samples')\n",
    "print(f\"Session variable test: p value {session['p']}\")\n",
    "print(f\"Order variable test: p value {order['p']}\")\n",
    "print(f\"Revenue variable test: p value {revenue['p']}\")\n",
    "print(f\"CVR variable test: p value {cvr['p']}\")"
   ]
  }
 ],
 "metadata": {
  "kernelspec": {
   "display_name": "modeling",
   "language": "python",
   "name": "modeling"
  },
  "language_info": {
   "codemirror_mode": {
    "name": "ipython",
    "version": 3
   },
   "file_extension": ".py",
   "mimetype": "text/x-python",
   "name": "python",
   "nbconvert_exporter": "python",
   "pygments_lexer": "ipython3",
   "version": "3.10.8"
  },
  "orig_nbformat": 4
 },
 "nbformat": 4,
 "nbformat_minor": 2
}
